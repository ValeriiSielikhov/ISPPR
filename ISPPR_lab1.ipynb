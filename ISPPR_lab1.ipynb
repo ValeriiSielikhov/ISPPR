{
 "cells": [
  {
   "cell_type": "code",
   "execution_count": 10,
   "metadata": {},
   "outputs": [],
   "source": [
    "import numpy as np\n",
    "import warnings\n",
    "from tqdm import tqdm\n",
    "\n",
    "warnings.filterwarnings(\"ignore\")\n",
    "np.random.seed(17)"
   ]
  },
  {
   "cell_type": "code",
   "execution_count": 11,
   "metadata": {},
   "outputs": [
    {
     "data": {
      "text/plain": [
       "array([[ 0.27626589, -1.85462808],\n",
       "       [ 0.62390111,  1.14531129]])"
      ]
     },
     "execution_count": 11,
     "metadata": {},
     "output_type": "execute_result"
    }
   ],
   "source": [
    "n = 2\n",
    "m = 2\n",
    "Te = np.random.randn(n,m)     # N~(0, 1)\n",
    "Te"
   ]
  },
  {
   "cell_type": "markdown",
   "metadata": {},
   "source": [
    "**Пиковая матрциа растояний**"
   ]
  },
  {
   "cell_type": "code",
   "execution_count": 12,
   "metadata": {},
   "outputs": [
    {
     "name": "stderr",
     "output_type": "stream",
     "text": [
      "100%|████████████████████████████████████████████████████████████████████████████████████████████| 2/2 [00:00<?, ?it/s]\n"
     ]
    },
    {
     "data": {
      "text/plain": [
       "array([[ 0.        , -1.92157339],\n",
       "       [-1.92157339,  0.        ]])"
      ]
     },
     "execution_count": 12,
     "metadata": {},
     "output_type": "execute_result"
    }
   ],
   "source": [
    "Dp = np.zeros(shape = (n,n))\n",
    "for p in tqdm(range(n)):\n",
    "    for q in range(n):\n",
    "        Dp[p,q] = np.sum(np.abs(Te[p] - Te[q])/(Te[p] + Te[q]))/m\n",
    "Dp"
   ]
  },
  {
   "cell_type": "markdown",
   "metadata": {},
   "source": [
    "**Матрица расстояния Махаланобиса**"
   ]
  },
  {
   "cell_type": "code",
   "execution_count": 13,
   "metadata": {},
   "outputs": [
    {
     "data": {
      "text/plain": [
       "array([[ 2.78119144e+17, -3.22286548e+16],\n",
       "       [-3.22286548e+16,  3.73468066e+15]])"
      ]
     },
     "execution_count": 13,
     "metadata": {},
     "output_type": "execute_result"
    }
   ],
   "source": [
    "Dm = np.zeros(shape = (n,n))\n",
    "S = np.linalg.inv(np.cov(Te.T))\n",
    "S"
   ]
  },
  {
   "cell_type": "code",
   "execution_count": 14,
   "metadata": {},
   "outputs": [
    {
     "name": "stderr",
     "output_type": "stream",
     "text": [
      "100%|███████████████████████████████████████████████████████████████████████████████████| 2/2 [00:00<00:00, 501.44it/s]\n"
     ]
    },
    {
     "data": {
      "text/plain": [
       "array([[0.        , 0.57397573],\n",
       "       [0.57397573, 0.        ]])"
      ]
     },
     "execution_count": 14,
     "metadata": {},
     "output_type": "execute_result"
    }
   ],
   "source": [
    "for p in tqdm(range(n)):\n",
    "    for q in range(n):\n",
    "        Dm[p,q] = np.sqrt(np.dot(np.dot((Te[p] - Te[q]).T, S), (Te[p] - Te[q])))\n",
    "Dm"
   ]
  },
  {
   "cell_type": "markdown",
   "metadata": {},
   "source": [
    "**Або**"
   ]
  },
  {
   "cell_type": "code",
   "execution_count": 15,
   "metadata": {},
   "outputs": [],
   "source": [
    "from scipy.spatial import distance"
   ]
  },
  {
   "cell_type": "code",
   "execution_count": 16,
   "metadata": {},
   "outputs": [
    {
     "name": "stderr",
     "output_type": "stream",
     "text": [
      "100%|████████████████████████████████████████████████████████████████████████████████████████████| 2/2 [00:00<?, ?it/s]\n"
     ]
    },
    {
     "data": {
      "text/plain": [
       "array([[0.        , 0.57397573],\n",
       "       [0.57397573, 0.        ]])"
      ]
     },
     "execution_count": 16,
     "metadata": {},
     "output_type": "execute_result"
    }
   ],
   "source": [
    "Dm_2 = np.zeros(shape = (n,n))\n",
    "for p in tqdm(range(n)):\n",
    "    for q in range(n):\n",
    "        Dm_2[p,q] = distance.mahalanobis(Te[p], Te[q], S)\n",
    "Dm_2"
   ]
  }
 ],
 "metadata": {
  "kernelspec": {
   "display_name": "Python 3",
   "language": "python",
   "name": "python3"
  },
  "language_info": {
   "codemirror_mode": {
    "name": "ipython",
    "version": 3
   },
   "file_extension": ".py",
   "mimetype": "text/x-python",
   "name": "python",
   "nbconvert_exporter": "python",
   "pygments_lexer": "ipython3",
   "version": "3.7.4"
  }
 },
 "nbformat": 4,
 "nbformat_minor": 2
}
